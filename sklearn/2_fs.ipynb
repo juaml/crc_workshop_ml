{
 "cells": [
  {
   "cell_type": "code",
   "execution_count": null,
   "metadata": {},
   "outputs": [],
   "source": [
    "# 1. Import things\n",
    "\n",
    "import pandas as pd\n",
    "\n",
    "from sklearn.model_selection import cross_validate, StratifiedKFold\n",
    "from sklearn.feature_selection import SelectKBest, mutual_info_classif\n",
    "from sklearn.linear_model import LogisticRegression\n",
    "from sklearn.pipeline import make_pipeline"
   ]
  },
  {
   "cell_type": "code",
   "execution_count": null,
   "metadata": {},
   "outputs": [],
   "source": [
    "# 2. Load the data\n",
    "\n",
    "data = pd.read_csv('../data/GDS360.csv')\n",
    "data"
   ]
  },
  {
   "cell_type": "code",
   "execution_count": 92,
   "metadata": {},
   "outputs": [],
   "source": [
    "X_columns = []\n",
    "for t_column in data.columns:\n",
    "    if t_column not in [\"disease state\"]:\n",
    "        X_columns.append(t_column)\n",
    "X = data[X_columns]"
   ]
  },
  {
   "cell_type": "code",
   "execution_count": 93,
   "metadata": {},
   "outputs": [],
   "source": [
    "data[\"target\"] = (data[\"disease state\"] == \"docetaxel sensitive tumor\").astype(int)\n",
    "y = data[\"target\"]"
   ]
  },
  {
   "cell_type": "code",
   "execution_count": 94,
   "metadata": {},
   "outputs": [],
   "source": [
    "model = LogisticRegression(solver=\"liblinear\")\n",
    "# preprocessing = SelectKBest(score_func=mutual_info_classif, k=10)  # Orange way, slow\n",
    "preprocessing = SelectKBest(k=10)\n",
    "estimator = make_pipeline(preprocessing, model)\n",
    "\n",
    "scoring = [\"roc_auc\", \"accuracy\", \"f1\", \"precision\", \"recall\"]\n",
    "cv = StratifiedKFold(n_splits=10)"
   ]
  },
  {
   "cell_type": "code",
   "execution_count": 95,
   "metadata": {},
   "outputs": [
    {
     "name": "stderr",
     "output_type": "stream",
     "text": [
      "/Users/fraimondo/miniconda3/envs/mlcourse/lib/python3.9/site-packages/sklearn/metrics/_classification.py:1334: UndefinedMetricWarning: Precision is ill-defined and being set to 0.0 due to no predicted samples. Use `zero_division` parameter to control this behavior.\n",
      "  _warn_prf(average, modifier, msg_start, len(result))\n"
     ]
    },
    {
     "data": {
      "text/plain": [
       "fit_time          0.104491\n",
       "score_time        0.092773\n",
       "test_roc_auc      0.950000\n",
       "test_accuracy     0.783333\n",
       "test_f1           0.733333\n",
       "test_precision    0.700000\n",
       "test_recall       0.800000\n",
       "dtype: float64"
      ]
     },
     "execution_count": 95,
     "metadata": {},
     "output_type": "execute_result"
    }
   ],
   "source": [
    "results = cross_validate(estimator=estimator, X=X, y=y, scoring=scoring, cv=cv)\n",
    "results = pd.DataFrame(results)\n",
    "results.mean()"
   ]
  },
  {
   "attachments": {},
   "cell_type": "markdown",
   "metadata": {},
   "source": [
    "Exercices:\n",
    "1. How does the number of folds affect the results?\n",
    "2. How does the number of selected features affect the results?"
   ]
  }
 ],
 "metadata": {
  "kernelspec": {
   "display_name": "mlcourse",
   "language": "python",
   "name": "python3"
  },
  "language_info": {
   "codemirror_mode": {
    "name": "ipython",
    "version": 3
   },
   "file_extension": ".py",
   "mimetype": "text/x-python",
   "name": "python",
   "nbconvert_exporter": "python",
   "pygments_lexer": "ipython3",
   "version": "3.9.16"
  },
  "orig_nbformat": 4
 },
 "nbformat": 4,
 "nbformat_minor": 2
}
