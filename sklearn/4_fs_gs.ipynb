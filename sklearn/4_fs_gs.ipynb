{
 "cells": [
  {
   "cell_type": "code",
   "execution_count": 17,
   "metadata": {},
   "outputs": [],
   "source": [
    "# 1. Import things\n",
    "\n",
    "import pandas as pd\n",
    "import seaborn as sns\n",
    "from sklearn.model_selection import cross_validate, StratifiedKFold, GridSearchCV\n",
    "from sklearn.svm import SVC\n",
    "from sklearn.preprocessing import OrdinalEncoder, StandardScaler\n",
    "from sklearn.pipeline import make_pipeline\n",
    "from sklearn.feature_selection import SelectKBest\n",
    "\n"
   ]
  },
  {
   "cell_type": "code",
   "execution_count": 18,
   "metadata": {},
   "outputs": [
    {
     "data": {
      "text/plain": [
       "carat       float64\n",
       "cut        category\n",
       "color      category\n",
       "clarity    category\n",
       "depth       float64\n",
       "table       float64\n",
       "price         int64\n",
       "x           float64\n",
       "y           float64\n",
       "z           float64\n",
       "dtype: object"
      ]
     },
     "execution_count": 18,
     "metadata": {},
     "output_type": "execute_result"
    }
   ],
   "source": [
    "# 2. Load the data\n",
    "\n",
    "data = sns.load_dataset('diamonds')\n",
    "data.dtypes"
   ]
  },
  {
   "cell_type": "code",
   "execution_count": 19,
   "metadata": {},
   "outputs": [],
   "source": [
    "enc = OrdinalEncoder()\n",
    "to_change = [\"cut\", \"color\", \"clarity\"]\n",
    "data[to_change] = enc.fit_transform(data[to_change])"
   ]
  },
  {
   "cell_type": "code",
   "execution_count": 20,
   "metadata": {},
   "outputs": [],
   "source": [
    "X_columns = ['carat', 'color', 'clarity', 'depth', 'table', 'price', 'x', 'y', 'z']"
   ]
  },
  {
   "cell_type": "code",
   "execution_count": 21,
   "metadata": {},
   "outputs": [
    {
     "data": {
      "text/html": [
       "<div>\n",
       "<style scoped>\n",
       "    .dataframe tbody tr th:only-of-type {\n",
       "        vertical-align: middle;\n",
       "    }\n",
       "\n",
       "    .dataframe tbody tr th {\n",
       "        vertical-align: top;\n",
       "    }\n",
       "\n",
       "    .dataframe thead th {\n",
       "        text-align: right;\n",
       "    }\n",
       "</style>\n",
       "<table border=\"1\" class=\"dataframe\">\n",
       "  <thead>\n",
       "    <tr style=\"text-align: right;\">\n",
       "      <th></th>\n",
       "      <th>carat</th>\n",
       "      <th>color</th>\n",
       "      <th>clarity</th>\n",
       "      <th>depth</th>\n",
       "      <th>table</th>\n",
       "      <th>price</th>\n",
       "      <th>x</th>\n",
       "      <th>y</th>\n",
       "      <th>z</th>\n",
       "    </tr>\n",
       "  </thead>\n",
       "  <tbody>\n",
       "    <tr>\n",
       "      <th>29064</th>\n",
       "      <td>0.40</td>\n",
       "      <td>1.0</td>\n",
       "      <td>2.0</td>\n",
       "      <td>63.3</td>\n",
       "      <td>56.0</td>\n",
       "      <td>687</td>\n",
       "      <td>4.68</td>\n",
       "      <td>4.74</td>\n",
       "      <td>2.98</td>\n",
       "    </tr>\n",
       "    <tr>\n",
       "      <th>540</th>\n",
       "      <td>0.70</td>\n",
       "      <td>4.0</td>\n",
       "      <td>6.0</td>\n",
       "      <td>62.3</td>\n",
       "      <td>55.0</td>\n",
       "      <td>2827</td>\n",
       "      <td>5.66</td>\n",
       "      <td>5.70</td>\n",
       "      <td>3.54</td>\n",
       "    </tr>\n",
       "    <tr>\n",
       "      <th>3407</th>\n",
       "      <td>0.33</td>\n",
       "      <td>0.0</td>\n",
       "      <td>2.0</td>\n",
       "      <td>62.0</td>\n",
       "      <td>56.0</td>\n",
       "      <td>567</td>\n",
       "      <td>4.44</td>\n",
       "      <td>4.47</td>\n",
       "      <td>2.76</td>\n",
       "    </tr>\n",
       "    <tr>\n",
       "      <th>36267</th>\n",
       "      <td>0.30</td>\n",
       "      <td>1.0</td>\n",
       "      <td>4.0</td>\n",
       "      <td>61.6</td>\n",
       "      <td>57.0</td>\n",
       "      <td>936</td>\n",
       "      <td>4.33</td>\n",
       "      <td>4.30</td>\n",
       "      <td>2.66</td>\n",
       "    </tr>\n",
       "    <tr>\n",
       "      <th>50348</th>\n",
       "      <td>0.90</td>\n",
       "      <td>1.0</td>\n",
       "      <td>0.0</td>\n",
       "      <td>62.4</td>\n",
       "      <td>63.0</td>\n",
       "      <td>2245</td>\n",
       "      <td>6.13</td>\n",
       "      <td>6.01</td>\n",
       "      <td>3.79</td>\n",
       "    </tr>\n",
       "    <tr>\n",
       "      <th>...</th>\n",
       "      <td>...</td>\n",
       "      <td>...</td>\n",
       "      <td>...</td>\n",
       "      <td>...</td>\n",
       "      <td>...</td>\n",
       "      <td>...</td>\n",
       "      <td>...</td>\n",
       "      <td>...</td>\n",
       "      <td>...</td>\n",
       "    </tr>\n",
       "    <tr>\n",
       "      <th>45058</th>\n",
       "      <td>0.58</td>\n",
       "      <td>1.0</td>\n",
       "      <td>2.0</td>\n",
       "      <td>60.7</td>\n",
       "      <td>61.0</td>\n",
       "      <td>1641</td>\n",
       "      <td>5.47</td>\n",
       "      <td>5.27</td>\n",
       "      <td>3.28</td>\n",
       "    </tr>\n",
       "    <tr>\n",
       "      <th>8595</th>\n",
       "      <td>1.03</td>\n",
       "      <td>1.0</td>\n",
       "      <td>3.0</td>\n",
       "      <td>62.5</td>\n",
       "      <td>56.0</td>\n",
       "      <td>4441</td>\n",
       "      <td>6.45</td>\n",
       "      <td>6.48</td>\n",
       "      <td>4.04</td>\n",
       "    </tr>\n",
       "    <tr>\n",
       "      <th>48467</th>\n",
       "      <td>0.51</td>\n",
       "      <td>0.0</td>\n",
       "      <td>5.0</td>\n",
       "      <td>60.1</td>\n",
       "      <td>59.0</td>\n",
       "      <td>1977</td>\n",
       "      <td>5.19</td>\n",
       "      <td>5.16</td>\n",
       "      <td>3.11</td>\n",
       "    </tr>\n",
       "    <tr>\n",
       "      <th>40997</th>\n",
       "      <td>0.50</td>\n",
       "      <td>4.0</td>\n",
       "      <td>2.0</td>\n",
       "      <td>63.1</td>\n",
       "      <td>59.0</td>\n",
       "      <td>1181</td>\n",
       "      <td>5.02</td>\n",
       "      <td>4.96</td>\n",
       "      <td>3.15</td>\n",
       "    </tr>\n",
       "    <tr>\n",
       "      <th>9514</th>\n",
       "      <td>0.90</td>\n",
       "      <td>0.0</td>\n",
       "      <td>2.0</td>\n",
       "      <td>62.4</td>\n",
       "      <td>61.0</td>\n",
       "      <td>4612</td>\n",
       "      <td>6.17</td>\n",
       "      <td>6.13</td>\n",
       "      <td>3.84</td>\n",
       "    </tr>\n",
       "  </tbody>\n",
       "</table>\n",
       "<p>2000 rows × 9 columns</p>\n",
       "</div>"
      ],
      "text/plain": [
       "       carat  color  clarity  depth  table  price     x     y     z\n",
       "29064   0.40    1.0      2.0   63.3   56.0    687  4.68  4.74  2.98\n",
       "540     0.70    4.0      6.0   62.3   55.0   2827  5.66  5.70  3.54\n",
       "3407    0.33    0.0      2.0   62.0   56.0    567  4.44  4.47  2.76\n",
       "36267   0.30    1.0      4.0   61.6   57.0    936  4.33  4.30  2.66\n",
       "50348   0.90    1.0      0.0   62.4   63.0   2245  6.13  6.01  3.79\n",
       "...      ...    ...      ...    ...    ...    ...   ...   ...   ...\n",
       "45058   0.58    1.0      2.0   60.7   61.0   1641  5.47  5.27  3.28\n",
       "8595    1.03    1.0      3.0   62.5   56.0   4441  6.45  6.48  4.04\n",
       "48467   0.51    0.0      5.0   60.1   59.0   1977  5.19  5.16  3.11\n",
       "40997   0.50    4.0      2.0   63.1   59.0   1181  5.02  4.96  3.15\n",
       "9514    0.90    0.0      2.0   62.4   61.0   4612  6.17  6.13  3.84\n",
       "\n",
       "[2000 rows x 9 columns]"
      ]
     },
     "execution_count": 21,
     "metadata": {},
     "output_type": "execute_result"
    }
   ],
   "source": [
    "data=data.sample(2000)\n",
    "y = data[\"cut\"]\n",
    "X = data[X_columns]\n",
    "\n",
    "X"
   ]
  },
  {
   "cell_type": "code",
   "execution_count": 22,
   "metadata": {},
   "outputs": [],
   "source": [
    "scaler = StandardScaler()\n",
    "model = SVC(kernel=\"linear\")\n",
    "pipeline = make_pipeline(scaler, model)\n",
    "scoring = [\"accuracy\", \"f1_micro\", \"precision_micro\", \"recall_micro\"]\n",
    "cv = StratifiedKFold(n_splits=5)"
   ]
  },
  {
   "cell_type": "code",
   "execution_count": 23,
   "metadata": {},
   "outputs": [
    {
     "data": {
      "text/plain": [
       "fit_time                 0.094368\n",
       "score_time               0.015605\n",
       "test_accuracy            0.651500\n",
       "train_accuracy           0.660375\n",
       "test_f1_micro            0.651500\n",
       "train_f1_micro           0.660375\n",
       "test_precision_micro     0.651500\n",
       "train_precision_micro    0.660375\n",
       "test_recall_micro        0.651500\n",
       "train_recall_micro       0.660375\n",
       "dtype: float64"
      ]
     },
     "execution_count": 23,
     "metadata": {},
     "output_type": "execute_result"
    }
   ],
   "source": [
    "results = cross_validate(\n",
    "    estimator=pipeline, X=X, y=y, scoring=scoring, cv=cv,\n",
    "    return_train_score=True)\n",
    "results = pd.DataFrame(results)\n",
    "results.mean()"
   ]
  },
  {
   "cell_type": "code",
   "execution_count": 25,
   "metadata": {},
   "outputs": [
    {
     "name": "stderr",
     "output_type": "stream",
     "text": [
      "/var/folders/ct/by3q_nhn67xfkj80jmklt_9w0000gn/T/ipykernel_48142/1454773308.py:21: FutureWarning: The default value of numeric_only in DataFrame.mean is deprecated. In a future version, it will default to False. In addition, specifying 'numeric_only=None' is deprecated. Select only valid columns or specify the value of numeric_only to silence this warning.\n",
      "  results.mean()\n"
     ]
    },
    {
     "data": {
      "text/plain": [
       "fit_time                 31.101545\n",
       "score_time                0.035443\n",
       "test_accuracy             0.737500\n",
       "train_accuracy            0.805250\n",
       "test_f1_micro             0.737500\n",
       "train_f1_micro            0.805250\n",
       "test_precision_micro      0.737500\n",
       "train_precision_micro     0.805250\n",
       "test_recall_micro         0.737500\n",
       "train_recall_micro        0.805250\n",
       "dtype: float64"
      ]
     },
     "execution_count": 25,
     "metadata": {},
     "output_type": "execute_result"
    }
   ],
   "source": [
    "select = SelectKBest(k=10)\n",
    "scaler = StandardScaler()\n",
    "model = SVC(kernel=\"linear\")\n",
    "pipeline = make_pipeline(scaler, select, model)\n",
    "\n",
    "param_grid = {\n",
    "    \"svc__C\": [0.01, 0.1, 1, 10, 100],\n",
    "    \"svc__kernel\": [\"linear\", \"rbf\"],\n",
    "    \"selectkbest__k\": [3, 6, 9]\n",
    "}\n",
    "\n",
    "estimator = GridSearchCV(\n",
    "    estimator=pipeline,\n",
    "    param_grid=param_grid,\n",
    "    cv=5\n",
    ")\n",
    "results = cross_validate(\n",
    "    estimator=estimator, X=X, y=y, scoring=scoring, cv=cv,\n",
    "    return_train_score=True, return_estimator=True)\n",
    "results = pd.DataFrame(results)\n",
    "results.mean()"
   ]
  }
 ],
 "metadata": {
  "kernelspec": {
   "display_name": "mlcourse",
   "language": "python",
   "name": "python3"
  },
  "language_info": {
   "codemirror_mode": {
    "name": "ipython",
    "version": 3
   },
   "file_extension": ".py",
   "mimetype": "text/x-python",
   "name": "python",
   "nbconvert_exporter": "python",
   "pygments_lexer": "ipython3",
   "version": "3.9.16"
  },
  "orig_nbformat": 4
 },
 "nbformat": 4,
 "nbformat_minor": 2
}
